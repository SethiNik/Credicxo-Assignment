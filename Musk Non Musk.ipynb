{
 "cells": [
  {
   "cell_type": "markdown",
   "metadata": {},
   "source": [
    "<h1> <font face= 'Lucida Grande' size='6'> <Center> Chemical Classification Using Deep Learning Approach </h1> "
   ]
  },
  {
   "cell_type": "markdown",
   "metadata": {},
   "source": [
    " - <font face= 'Lucida Grande' size='4.5'>  The given problem falls under the category of Binary Classification\n",
    "<br> 1- Musk </br>\n",
    "<br> 0- Non-Musk"
   ]
  },
  {
   "cell_type": "markdown",
   "metadata": {},
   "source": [
    "<h2> <font face= 'Lucida Grande' size='5'> Importing Necessary Libraries"
   ]
  },
  {
   "cell_type": "code",
   "execution_count": 52,
   "metadata": {},
   "outputs": [],
   "source": [
    "from pyforest import *\n",
    "\n",
    "import pandas_profiling as pp\n",
    "\n",
    "from sklearn.linear_model import LogisticRegression\n",
    "\n",
    "from sklearn.feature_selection import RFE\n",
    "\n",
    "from sklearn.feature_selection import SelectKBest\n",
    "\n",
    "from statsmodels.stats.outliers_influence import variance_inflation_factor\n",
    "\n",
    "from sklearn.feature_selection import f_classif, mutual_info_classif\n",
    "\n",
    "from sklearn.metrics import confusion_matrix, f1_score, classification_report"
   ]
  },
  {
   "cell_type": "markdown",
   "metadata": {},
   "source": [
    "<h2> <font face= 'Lucida Grande' size='5'> Loading the data"
   ]
  },
  {
   "cell_type": "code",
   "execution_count": 2,
   "metadata": {},
   "outputs": [
    {
     "data": {
      "text/html": [
       "<div>\n",
       "<style scoped>\n",
       "    .dataframe tbody tr th:only-of-type {\n",
       "        vertical-align: middle;\n",
       "    }\n",
       "\n",
       "    .dataframe tbody tr th {\n",
       "        vertical-align: top;\n",
       "    }\n",
       "\n",
       "    .dataframe thead th {\n",
       "        text-align: right;\n",
       "    }\n",
       "</style>\n",
       "<table border=\"1\" class=\"dataframe\">\n",
       "  <thead>\n",
       "    <tr style=\"text-align: right;\">\n",
       "      <th></th>\n",
       "      <th>ID</th>\n",
       "      <th>molecule_name</th>\n",
       "      <th>conformation_name</th>\n",
       "      <th>f1</th>\n",
       "      <th>f2</th>\n",
       "      <th>f3</th>\n",
       "      <th>f4</th>\n",
       "      <th>f5</th>\n",
       "      <th>f6</th>\n",
       "      <th>f7</th>\n",
       "      <th>...</th>\n",
       "      <th>f158</th>\n",
       "      <th>f159</th>\n",
       "      <th>f160</th>\n",
       "      <th>f161</th>\n",
       "      <th>f162</th>\n",
       "      <th>f163</th>\n",
       "      <th>f164</th>\n",
       "      <th>f165</th>\n",
       "      <th>f166</th>\n",
       "      <th>class</th>\n",
       "    </tr>\n",
       "  </thead>\n",
       "  <tbody>\n",
       "    <tr>\n",
       "      <th>0</th>\n",
       "      <td>1</td>\n",
       "      <td>MUSK-211</td>\n",
       "      <td>211_1+1</td>\n",
       "      <td>46</td>\n",
       "      <td>-108</td>\n",
       "      <td>-60</td>\n",
       "      <td>-69</td>\n",
       "      <td>-117</td>\n",
       "      <td>49</td>\n",
       "      <td>38</td>\n",
       "      <td>...</td>\n",
       "      <td>-308</td>\n",
       "      <td>52</td>\n",
       "      <td>-7</td>\n",
       "      <td>39</td>\n",
       "      <td>126</td>\n",
       "      <td>156</td>\n",
       "      <td>-50</td>\n",
       "      <td>-112</td>\n",
       "      <td>96</td>\n",
       "      <td>1</td>\n",
       "    </tr>\n",
       "    <tr>\n",
       "      <th>1</th>\n",
       "      <td>2</td>\n",
       "      <td>MUSK-211</td>\n",
       "      <td>211_1+10</td>\n",
       "      <td>41</td>\n",
       "      <td>-188</td>\n",
       "      <td>-145</td>\n",
       "      <td>22</td>\n",
       "      <td>-117</td>\n",
       "      <td>-6</td>\n",
       "      <td>57</td>\n",
       "      <td>...</td>\n",
       "      <td>-59</td>\n",
       "      <td>-2</td>\n",
       "      <td>52</td>\n",
       "      <td>103</td>\n",
       "      <td>136</td>\n",
       "      <td>169</td>\n",
       "      <td>-61</td>\n",
       "      <td>-136</td>\n",
       "      <td>79</td>\n",
       "      <td>1</td>\n",
       "    </tr>\n",
       "    <tr>\n",
       "      <th>2</th>\n",
       "      <td>3</td>\n",
       "      <td>MUSK-211</td>\n",
       "      <td>211_1+11</td>\n",
       "      <td>46</td>\n",
       "      <td>-194</td>\n",
       "      <td>-145</td>\n",
       "      <td>28</td>\n",
       "      <td>-117</td>\n",
       "      <td>73</td>\n",
       "      <td>57</td>\n",
       "      <td>...</td>\n",
       "      <td>-134</td>\n",
       "      <td>-154</td>\n",
       "      <td>57</td>\n",
       "      <td>143</td>\n",
       "      <td>142</td>\n",
       "      <td>165</td>\n",
       "      <td>-67</td>\n",
       "      <td>-145</td>\n",
       "      <td>39</td>\n",
       "      <td>1</td>\n",
       "    </tr>\n",
       "    <tr>\n",
       "      <th>3</th>\n",
       "      <td>4</td>\n",
       "      <td>MUSK-211</td>\n",
       "      <td>211_1+12</td>\n",
       "      <td>41</td>\n",
       "      <td>-188</td>\n",
       "      <td>-145</td>\n",
       "      <td>22</td>\n",
       "      <td>-117</td>\n",
       "      <td>-7</td>\n",
       "      <td>57</td>\n",
       "      <td>...</td>\n",
       "      <td>-60</td>\n",
       "      <td>-4</td>\n",
       "      <td>52</td>\n",
       "      <td>104</td>\n",
       "      <td>136</td>\n",
       "      <td>168</td>\n",
       "      <td>-60</td>\n",
       "      <td>-135</td>\n",
       "      <td>80</td>\n",
       "      <td>1</td>\n",
       "    </tr>\n",
       "    <tr>\n",
       "      <th>4</th>\n",
       "      <td>5</td>\n",
       "      <td>MUSK-211</td>\n",
       "      <td>211_1+13</td>\n",
       "      <td>41</td>\n",
       "      <td>-188</td>\n",
       "      <td>-145</td>\n",
       "      <td>22</td>\n",
       "      <td>-117</td>\n",
       "      <td>-7</td>\n",
       "      <td>57</td>\n",
       "      <td>...</td>\n",
       "      <td>-60</td>\n",
       "      <td>-4</td>\n",
       "      <td>52</td>\n",
       "      <td>104</td>\n",
       "      <td>137</td>\n",
       "      <td>168</td>\n",
       "      <td>-60</td>\n",
       "      <td>-135</td>\n",
       "      <td>80</td>\n",
       "      <td>1</td>\n",
       "    </tr>\n",
       "  </tbody>\n",
       "</table>\n",
       "<p>5 rows × 170 columns</p>\n",
       "</div>"
      ],
      "text/plain": [
       "   ID molecule_name conformation_name  f1   f2   f3  f4   f5  f6  f7  ...  \\\n",
       "0   1      MUSK-211           211_1+1  46 -108  -60 -69 -117  49  38  ...   \n",
       "1   2      MUSK-211          211_1+10  41 -188 -145  22 -117  -6  57  ...   \n",
       "2   3      MUSK-211          211_1+11  46 -194 -145  28 -117  73  57  ...   \n",
       "3   4      MUSK-211          211_1+12  41 -188 -145  22 -117  -7  57  ...   \n",
       "4   5      MUSK-211          211_1+13  41 -188 -145  22 -117  -7  57  ...   \n",
       "\n",
       "   f158  f159  f160  f161  f162  f163  f164  f165  f166  class  \n",
       "0  -308    52    -7    39   126   156   -50  -112    96      1  \n",
       "1   -59    -2    52   103   136   169   -61  -136    79      1  \n",
       "2  -134  -154    57   143   142   165   -67  -145    39      1  \n",
       "3   -60    -4    52   104   136   168   -60  -135    80      1  \n",
       "4   -60    -4    52   104   137   168   -60  -135    80      1  \n",
       "\n",
       "[5 rows x 170 columns]"
      ]
     },
     "execution_count": 2,
     "metadata": {},
     "output_type": "execute_result"
    }
   ],
   "source": [
    "data=pd.read_csv('musk_csv.csv')\n",
    "data.head()"
   ]
  },
  {
   "cell_type": "markdown",
   "metadata": {},
   "source": [
    "<h2> <font face= 'Lucida Grande' size='5'> Doing Some Exploratory Data Analysis "
   ]
  },
  {
   "cell_type": "code",
   "execution_count": 3,
   "metadata": {},
   "outputs": [
    {
     "data": {
      "text/plain": [
       "(6598, 170)"
      ]
     },
     "execution_count": 3,
     "metadata": {},
     "output_type": "execute_result"
    }
   ],
   "source": [
    "data.shape"
   ]
  },
  {
   "cell_type": "code",
   "execution_count": 4,
   "metadata": {},
   "outputs": [
    {
     "data": {
      "text/plain": [
       "0    5581\n",
       "1    1017\n",
       "Name: class, dtype: int64"
      ]
     },
     "execution_count": 4,
     "metadata": {},
     "output_type": "execute_result"
    }
   ],
   "source": [
    "data['class'].value_counts()"
   ]
  },
  {
   "cell_type": "code",
   "execution_count": 5,
   "metadata": {},
   "outputs": [
    {
     "data": {
      "text/plain": [
       "<matplotlib.axes._subplots.AxesSubplot at 0x284cfbb59b0>"
      ]
     },
     "execution_count": 5,
     "metadata": {},
     "output_type": "execute_result"
    },
    {
     "data": {
      "image/png": "[encoded data removed]",
      "text/plain": [
       "<Figure size 400x300 with 1 Axes>"
      ]
     },
     "metadata": {},
     "output_type": "display_data"
    }
   ],
   "source": [
    "sns.set({'figure.figsize': (4,3)},  font_scale=2)\n",
    "plt.figure(dpi=100)\n",
    "sns.countplot(x='class', data=data)"
   ]
  },
  {
   "cell_type": "markdown",
   "metadata": {},
   "source": [
    "<font face='Lucida Grande' size= '4'>  <a>\n",
    "- Highly Imbalanced Data"
   ]
  },
  {
   "cell_type": "markdown",
   "metadata": {},
   "source": [
    "<h2> <font face= 'Lucida Grande' size='5'> Missing Value Check"
   ]
  },
  {
   "cell_type": "code",
   "execution_count": 6,
   "metadata": {},
   "outputs": [
    {
     "data": {
      "text/plain": [
       "0"
      ]
     },
     "execution_count": 6,
     "metadata": {},
     "output_type": "execute_result"
    }
   ],
   "source": [
    "sum(data.isna().any())"
   ]
  },
  {
   "cell_type": "markdown",
   "metadata": {},
   "source": [
    "<font face='Lucida Grande' size= '4'>  <a>\n",
    "- No Missing or Null Values in the Data are Present"
   ]
  },
  {
   "cell_type": "markdown",
   "metadata": {},
   "source": [
    "<h2> <font face= 'Lucida Grande' size='5'> Generating Pandas Profile Report"
   ]
  },
  {
   "cell_type": "code",
   "execution_count": 7,
   "metadata": {},
   "outputs": [],
   "source": [
    "#output = pp.ProfileReport(data)\n",
    "#output.to_file(output_file='pandas_profiling_report.html')\n",
    "#output"
   ]
  },
  {
   "cell_type": "markdown",
   "metadata": {},
   "source": [
    "<h3> <font face= 'Lucida Grande'>  Removing Highly correlated columns based on Pandas Profile Report"
   ]
  },
  {
   "cell_type": "code",
   "execution_count": 8,
   "metadata": {},
   "outputs": [],
   "source": [
    "data.drop(['f104','f105','f11','f110','f111','f113', 'f114', 'f119', 'f128' , 'f139' , 'f14', 'f143' , 'f144', 'f149' , 'f15' , \n",
    "      'f152', 'f21' , 'f22' ,'f23' , 'f25','f26', 'f27', 'f30', 'f34', 'f35', 'f38', 'f40' , 'f41' , 'f44' , 'f45' , \n",
    "      'f46', 'f48', 'f52', 'f53', 'f57', 'f59', 'f60' , 'f64' ,'f65' ,'f7','f71','f72', 'f73','f74', 'f77' , 'f78' , 'f79' ,\n",
    "      'f80' , 'f81' , 'f82', 'f83', 'f85' , 'f86' , 'f87' , 'f9' , 'f90' , 'f93' , 'f98', 'f99'], axis=1, inplace =True)"
   ]
  },
  {
   "cell_type": "markdown",
   "metadata": {},
   "source": [
    "<h3> <font face= 'Lucida Grande' > Removing 'ID', 'conformation_name' and 'molecule_name'"
   ]
  },
  {
   "cell_type": "code",
   "execution_count": 9,
   "metadata": {},
   "outputs": [],
   "source": [
    "data.drop([ 'ID', 'conformation_name' , 'molecule_name'], axis=1, inplace=True)"
   ]
  },
  {
   "cell_type": "markdown",
   "metadata": {},
   "source": [
    "<h2> <font face= 'Lucida Grande' size='5'> Splitting Data into 80:20 Ratio"
   ]
  },
  {
   "cell_type": "code",
   "execution_count": 10,
   "metadata": {},
   "outputs": [
    {
     "name": "stdout",
     "output_type": "stream",
     "text": [
      "5278\n",
      "5278\n",
      "1320\n",
      "1320\n",
      "(6598, 108)\n"
     ]
    }
   ],
   "source": [
    "#Splitting the data\n",
    "feature_columns = data.columns.difference( ['class'] )\n",
    "train_X, test_X, train_y, test_y = train_test_split(data[feature_columns],\n",
    "                                                  data['class'],\n",
    "                                                  test_size=0.2,random_state=101)\n",
    "                                                  \n",
    "print (len( train_X ))\n",
    "print (len (train_y))\n",
    "print (len( test_X))\n",
    "print (len( test_y))\n",
    "print (data.shape)"
   ]
  },
  {
   "cell_type": "markdown",
   "metadata": {},
   "source": [
    "<h1> <font face= 'Lucida Grande'> Feature Reduction:</h1>\n",
    "<h3> <font face= 'Lucida Grande' >  Using RFE [Recursive feature engineering] to bucket out important features"
   ]
  },
  {
   "cell_type": "code",
   "execution_count": 11,
   "metadata": {},
   "outputs": [
    {
     "name": "stdout",
     "output_type": "stream",
     "text": [
      "[ True False False False False False False False False False False False\n",
      " False False  True  True False False False False  True False False False\n",
      " False False False  True False False False False False False False False\n",
      " False False False False  True  True False  True  True False False False\n",
      " False False False False False False False  True False False False False\n",
      " False False False False False False False  True False False False False\n",
      " False False False  True False False False False False  True False False\n",
      " False False False False False False False  True False False False False\n",
      " False False False False False False False False  True False False]\n",
      "[ 1 25  4 33 65 41 74 18 93 17 27 80 56 70  1  1 62 28 23 24  1 78 45 16\n",
      "  7  8 46  1 79 19 37 38 54  5 82 75 66  3 91 81  1  1 21  1  1 32 10 44\n",
      " 69 61 68 72 85 90 13  1 12 48 84  6 20 34 63 88 89 92 77  1 64 11 49 42\n",
      " 47 51 59  1 26 29 35 83  9  1 57 76 40 43 71 67 50 86 14  1  2 52 53 87\n",
      " 73 36 60 39 22 31 30 58  1 15 55]\n"
     ]
    }
   ],
   "source": [
    "import warnings\n",
    "warnings.filterwarnings(\"ignore\")  # To ignore Convergence Warnings otherwise it is going to take up a lot of space\n",
    "logreg = LogisticRegression(solver='lbfgs',multi_class='auto')\n",
    "rfe = RFE(logreg, 15)\n",
    "rfe = rfe.fit(train_X, train_y )\n",
    "print(rfe.support_)\n",
    "print(rfe.ranking_)"
   ]
  },
  {
   "cell_type": "code",
   "execution_count": 12,
   "metadata": {},
   "outputs": [
    {
     "data": {
      "text/plain": [
       "Index(['f1', 'f118', 'f12', 'f124', 'f131', 'f147', 'f148', 'f151', 'f153',\n",
       "       'f163', 'f3', 'f42', 'f51', 'f67', 'f95'],\n",
       "      dtype='object')"
      ]
     },
     "execution_count": 12,
     "metadata": {},
     "output_type": "execute_result"
    }
   ],
   "source": [
    "# capturing the important variables\n",
    "RFE_features=train_X.columns[rfe.get_support()]\n",
    "RFE_features"
   ]
  },
  {
   "cell_type": "markdown",
   "metadata": {},
   "source": [
    "<h3> <font face= 'Lucida Grande' > Using K Best Technique to find important Variables"
   ]
  },
  {
   "cell_type": "code",
   "execution_count": 13,
   "metadata": {},
   "outputs": [],
   "source": [
    "X_new = SelectKBest(f_classif,k=25).fit(train_X, train_y )"
   ]
  },
  {
   "cell_type": "code",
   "execution_count": 14,
   "metadata": {},
   "outputs": [
    {
     "data": {
      "text/plain": [
       "Index(['f103', 'f106', 'f108', 'f109', 'f124', 'f125', 'f126', 'f132', 'f134',\n",
       "       'f135', 'f148', 'f163', 'f19', 'f20', 'f31', 'f36', 'f37', 'f49', 'f54',\n",
       "       'f66', 'f75', 'f8', 'f91', 'f92', 'f96'],\n",
       "      dtype='object')"
      ]
     },
     "execution_count": 14,
     "metadata": {},
     "output_type": "execute_result"
    }
   ],
   "source": [
    "# capturing the important variables\n",
    "KBest_features=train_X.columns[X_new.get_support()]\n",
    "KBest_features"
   ]
  },
  {
   "cell_type": "code",
   "execution_count": 15,
   "metadata": {},
   "outputs": [
    {
     "name": "stderr",
     "output_type": "stream",
     "text": [
      "Using TensorFlow backend.\n"
     ]
    }
   ],
   "source": [
    "import tensorflow as tf\n",
    "import keras\n",
    "from keras.models import Sequential\n",
    "from keras.layers import Dense, Dropout, Flatten\n",
    "from keras.layers import Conv2D, MaxPooling2D"
   ]
  },
  {
   "cell_type": "markdown",
   "metadata": {},
   "source": [
    "# <font face='Lucida Grande'> Building Artificial Neural Network Model"
   ]
  },
  {
   "cell_type": "code",
   "execution_count": 17,
   "metadata": {},
   "outputs": [
    {
     "name": "stdout",
     "output_type": "stream",
     "text": [
      "WARNING:tensorflow:From C:\\Users\\nikhi\\Anaconda3\\lib\\site-packages\\keras\\backend\\tensorflow_backend.py:74: The name tf.get_default_graph is deprecated. Please use tf.compat.v1.get_default_graph instead.\n",
      "\n",
      "WARNING:tensorflow:From C:\\Users\\nikhi\\Anaconda3\\lib\\site-packages\\keras\\backend\\tensorflow_backend.py:517: The name tf.placeholder is deprecated. Please use tf.compat.v1.placeholder instead.\n",
      "\n",
      "WARNING:tensorflow:From C:\\Users\\nikhi\\Anaconda3\\lib\\site-packages\\keras\\backend\\tensorflow_backend.py:4138: The name tf.random_uniform is deprecated. Please use tf.random.uniform instead.\n",
      "\n",
      "WARNING:tensorflow:From C:\\Users\\nikhi\\Anaconda3\\lib\\site-packages\\keras\\optimizers.py:790: The name tf.train.Optimizer is deprecated. Please use tf.compat.v1.train.Optimizer instead.\n",
      "\n",
      "WARNING:tensorflow:From C:\\Users\\nikhi\\Anaconda3\\lib\\site-packages\\keras\\backend\\tensorflow_backend.py:3376: The name tf.log is deprecated. Please use tf.math.log instead.\n",
      "\n",
      "WARNING:tensorflow:From C:\\Users\\nikhi\\Anaconda3\\lib\\site-packages\\tensorflow\\python\\ops\\nn_impl.py:180: add_dispatch_support.<locals>.wrapper (from tensorflow.python.ops.array_ops) is deprecated and will be removed in a future version.\n",
      "Instructions for updating:\n",
      "Use tf.where in 2.0, which has the same broadcast rule as np.where\n"
     ]
    }
   ],
   "source": [
    "clf= Sequential([\n",
    "  Dense(output_dim = 6, init = 'uniform', activation = 'relu', input_dim = 107),\n",
    "  Dense(output_dim = 6, init = 'uniform', activation = 'relu'),\n",
    "  Dense(output_dim = 1, init = 'uniform', activation = 'sigmoid')])\n",
    "\n",
    "clf.compile(loss=keras.losses.binary_crossentropy,optimizer=keras.optimizers.Adadelta(),metrics=['accuracy'])\n"
   ]
  },
  {
   "cell_type": "code",
   "execution_count": 19,
   "metadata": {},
   "outputs": [
    {
     "name": "stdout",
     "output_type": "stream",
     "text": [
      "Train on 5278 samples, validate on 1320 samples\n",
      "Epoch 1/20\n",
      "5278/5278 [==============================] - 1s 148us/step - loss: 0.0282 - acc: 0.9884 - val_loss: 0.0618 - val_acc: 0.9811\n",
      "Epoch 2/20\n",
      "5278/5278 [==============================] - 1s 138us/step - loss: 0.0266 - acc: 0.9905 - val_loss: 0.0710 - val_acc: 0.9795\n",
      "Epoch 3/20\n",
      "5278/5278 [==============================] - 1s 141us/step - loss: 0.0236 - acc: 0.9922 - val_loss: 0.0671 - val_acc: 0.9833\n",
      "Epoch 4/20\n",
      "5278/5278 [==============================] - 1s 180us/step - loss: 0.0241 - acc: 0.9911 - val_loss: 0.0736 - val_acc: 0.9780\n",
      "Epoch 5/20\n",
      "5278/5278 [==============================] - 1s 137us/step - loss: 0.0242 - acc: 0.9922 - val_loss: 0.0726 - val_acc: 0.9780\n",
      "Epoch 6/20\n",
      "5278/5278 [==============================] - 1s 139us/step - loss: 0.0206 - acc: 0.9930 - val_loss: 0.0714 - val_acc: 0.9788\n",
      "Epoch 7/20\n",
      "5278/5278 [==============================] - 1s 151us/step - loss: 0.0210 - acc: 0.9932 - val_loss: 0.0728 - val_acc: 0.9795\n",
      "Epoch 8/20\n",
      "5278/5278 [==============================] - 1s 158us/step - loss: 0.0217 - acc: 0.9926 - val_loss: 0.0641 - val_acc: 0.9833\n",
      "Epoch 9/20\n",
      "5278/5278 [==============================] - 1s 169us/step - loss: 0.0186 - acc: 0.9943 - val_loss: 0.0811 - val_acc: 0.9773\n",
      "Epoch 10/20\n",
      "5278/5278 [==============================] - 1s 150us/step - loss: 0.0233 - acc: 0.9920 - val_loss: 0.0661 - val_acc: 0.9826\n",
      "Epoch 11/20\n",
      "5278/5278 [==============================] - 1s 148us/step - loss: 0.0177 - acc: 0.9941 - val_loss: 0.0872 - val_acc: 0.9803\n",
      "Epoch 12/20\n",
      "5278/5278 [==============================] - 1s 142us/step - loss: 0.0182 - acc: 0.9947 - val_loss: 0.0785 - val_acc: 0.9811\n",
      "Epoch 13/20\n",
      "5278/5278 [==============================] - 1s 144us/step - loss: 0.0184 - acc: 0.9939 - val_loss: 0.0742 - val_acc: 0.9833\n",
      "Epoch 14/20\n",
      "5278/5278 [==============================] - 1s 142us/step - loss: 0.0145 - acc: 0.9953 - val_loss: 0.0799 - val_acc: 0.9803\n",
      "Epoch 15/20\n",
      "5278/5278 [==============================] - 1s 144us/step - loss: 0.0156 - acc: 0.9949 - val_loss: 0.0764 - val_acc: 0.9803\n",
      "Epoch 16/20\n",
      "5278/5278 [==============================] - 1s 143us/step - loss: 0.0155 - acc: 0.9947 - val_loss: 0.0864 - val_acc: 0.9803\n",
      "Epoch 17/20\n",
      "5278/5278 [==============================] - 1s 144us/step - loss: 0.0135 - acc: 0.9956 - val_loss: 0.0833 - val_acc: 0.9841\n",
      "Epoch 18/20\n",
      "5278/5278 [==============================] - 1s 144us/step - loss: 0.0134 - acc: 0.9956 - val_loss: 0.0860 - val_acc: 0.9803\n",
      "Epoch 19/20\n",
      "5278/5278 [==============================] - 1s 145us/step - loss: 0.0160 - acc: 0.9953 - val_loss: 0.0839 - val_acc: 0.9826\n",
      "Epoch 20/20\n",
      "5278/5278 [==============================] - 1s 150us/step - loss: 0.0134 - acc: 0.9956 - val_loss: 0.0927 - val_acc: 0.9826\n",
      "[0.09274759264081887, 0.9825757575757575]\n"
     ]
    }
   ],
   "source": [
    "history = clf.fit(train_X,train_y,batch_size=20,epochs=20,validation_data=(test_X,test_y))\n",
    "score=clf.evaluate(test_X,test_y,verbose=0)\n",
    "print(score)"
   ]
  },
  {
   "cell_type": "markdown",
   "metadata": {},
   "source": [
    "## History Plot for accuracy"
   ]
  },
  {
   "cell_type": "code",
   "execution_count": 20,
   "metadata": {},
   "outputs": [
    {
     "data": {
      "text/plain": [
       "<matplotlib.legend.Legend at 0x284dec99550>"
      ]
     },
     "execution_count": 20,
     "metadata": {},
     "output_type": "execute_result"
    },
    {
     "data": {
      "image/png": "[encoded data removed]",
      "text/plain": [
       "<Figure size 720x480 with 1 Axes>"
      ]
     },
     "metadata": {
      "needs_background": "light"
     },
     "output_type": "display_data"
    }
   ],
   "source": [
    "%matplotlib inline\n",
    "plt.figure(dpi=120)\n",
    "plt.plot(history.history['acc'])\n",
    "plt.plot(history.history['val_acc'])\n",
    "plt.title('Model Accuracy')\n",
    "plt.ylabel('accuracy')\n",
    "plt.xlabel('epoch')\n",
    "plt.legend(['train', 'test'], loc='lower right')"
   ]
  },
  {
   "cell_type": "markdown",
   "metadata": {},
   "source": [
    "## History Plot for loss"
   ]
  },
  {
   "cell_type": "code",
   "execution_count": 21,
   "metadata": {},
   "outputs": [
    {
     "data": {
      "image/png": "[encoded data removed]",
      "text/plain": [
       "<Figure size 720x480 with 1 Axes>"
      ]
     },
     "metadata": {
      "needs_background": "light"
     },
     "output_type": "display_data"
    }
   ],
   "source": [
    "plt.figure(dpi=120)\n",
    "plt.plot(history.history['loss'])\n",
    "plt.plot(history.history['val_loss'])\n",
    "plt.title('Model Loss')\n",
    "plt.ylabel('loss')\n",
    "plt.xlabel('epoch')\n",
    "plt.legend(['train', 'test'], loc='upper right')\n",
    "plt.show()"
   ]
  },
  {
   "cell_type": "markdown",
   "metadata": {},
   "source": [
    "# <font face='Lucida Grande'> Building Final Model on Important Features"
   ]
  },
  {
   "cell_type": "code",
   "execution_count": 22,
   "metadata": {},
   "outputs": [
    {
     "data": {
      "text/plain": [
       "Index(['f103', 'f106', 'f108', 'f109', 'f124', 'f125', 'f126', 'f132', 'f134',\n",
       "       'f135', 'f148', 'f163', 'f19', 'f20', 'f31', 'f36', 'f37', 'f49', 'f54',\n",
       "       'f66', 'f75', 'f8', 'f91', 'f92', 'f96'],\n",
       "      dtype='object')"
      ]
     },
     "execution_count": 22,
     "metadata": {},
     "output_type": "execute_result"
    }
   ],
   "source": [
    "KBest_features"
   ]
  },
  {
   "cell_type": "code",
   "execution_count": 23,
   "metadata": {},
   "outputs": [
    {
     "data": {
      "text/plain": [
       "Index(['f1', 'f118', 'f12', 'f124', 'f131', 'f147', 'f148', 'f151', 'f153',\n",
       "       'f163', 'f3', 'f42', 'f51', 'f67', 'f95'],\n",
       "      dtype='object')"
      ]
     },
     "execution_count": 23,
     "metadata": {},
     "output_type": "execute_result"
    }
   ],
   "source": [
    "RFE_features"
   ]
  },
  {
   "cell_type": "code",
   "execution_count": 24,
   "metadata": {},
   "outputs": [
    {
     "name": "stdout",
     "output_type": "stream",
     "text": [
      "{'f134', 'f37', 'f148', 'f67', 'f91', 'f36', 'f109', 'f96', 'f66', 'f92', 'f42', 'f135', 'f108', 'f147', 'f51', 'f95', 'f20', 'f106', 'f49', 'f151', 'f163', 'f118', 'f31', 'f3', 'f103', 'f19', 'f1', 'f126', 'f8', 'f153', 'f131', 'f125', 'f124', 'f75', 'f12', 'class', 'f132', 'f54'}\n"
     ]
    }
   ],
   "source": [
    "features=set(list(RFE_features)+list(KBest_features)+['class'])\n",
    "print(features)"
   ]
  },
  {
   "cell_type": "code",
   "execution_count": 25,
   "metadata": {},
   "outputs": [],
   "source": [
    "data_new=data[features]"
   ]
  },
  {
   "cell_type": "code",
   "execution_count": 26,
   "metadata": {},
   "outputs": [
    {
     "data": {
      "text/html": [
       "<div>\n",
       "<style scoped>\n",
       "    .dataframe tbody tr th:only-of-type {\n",
       "        vertical-align: middle;\n",
       "    }\n",
       "\n",
       "    .dataframe tbody tr th {\n",
       "        vertical-align: top;\n",
       "    }\n",
       "\n",
       "    .dataframe thead th {\n",
       "        text-align: right;\n",
       "    }\n",
       "</style>\n",
       "<table border=\"1\" class=\"dataframe\">\n",
       "  <thead>\n",
       "    <tr style=\"text-align: right;\">\n",
       "      <th></th>\n",
       "      <th>f134</th>\n",
       "      <th>f37</th>\n",
       "      <th>f148</th>\n",
       "      <th>f67</th>\n",
       "      <th>f91</th>\n",
       "      <th>f36</th>\n",
       "      <th>f109</th>\n",
       "      <th>f96</th>\n",
       "      <th>f66</th>\n",
       "      <th>f92</th>\n",
       "      <th>...</th>\n",
       "      <th>f8</th>\n",
       "      <th>f153</th>\n",
       "      <th>f131</th>\n",
       "      <th>f125</th>\n",
       "      <th>f124</th>\n",
       "      <th>f75</th>\n",
       "      <th>f12</th>\n",
       "      <th>class</th>\n",
       "      <th>f132</th>\n",
       "      <th>f54</th>\n",
       "    </tr>\n",
       "  </thead>\n",
       "  <tbody>\n",
       "    <tr>\n",
       "      <th>0</th>\n",
       "      <td>-182</td>\n",
       "      <td>-165</td>\n",
       "      <td>-14</td>\n",
       "      <td>-166</td>\n",
       "      <td>-188</td>\n",
       "      <td>63</td>\n",
       "      <td>-205</td>\n",
       "      <td>-55</td>\n",
       "      <td>59</td>\n",
       "      <td>119</td>\n",
       "      <td>...</td>\n",
       "      <td>-161</td>\n",
       "      <td>-114</td>\n",
       "      <td>45</td>\n",
       "      <td>80</td>\n",
       "      <td>-107</td>\n",
       "      <td>-97</td>\n",
       "      <td>-220</td>\n",
       "      <td>1</td>\n",
       "      <td>-118</td>\n",
       "      <td>-131</td>\n",
       "    </tr>\n",
       "    <tr>\n",
       "      <th>1</th>\n",
       "      <td>-124</td>\n",
       "      <td>-171</td>\n",
       "      <td>-66</td>\n",
       "      <td>-166</td>\n",
       "      <td>-200</td>\n",
       "      <td>61</td>\n",
       "      <td>-244</td>\n",
       "      <td>-52</td>\n",
       "      <td>59</td>\n",
       "      <td>82</td>\n",
       "      <td>...</td>\n",
       "      <td>-171</td>\n",
       "      <td>-32</td>\n",
       "      <td>32</td>\n",
       "      <td>-10</td>\n",
       "      <td>-77</td>\n",
       "      <td>-255</td>\n",
       "      <td>-111</td>\n",
       "      <td>1</td>\n",
       "      <td>-128</td>\n",
       "      <td>-133</td>\n",
       "    </tr>\n",
       "    <tr>\n",
       "      <th>2</th>\n",
       "      <td>-125</td>\n",
       "      <td>-175</td>\n",
       "      <td>-66</td>\n",
       "      <td>-166</td>\n",
       "      <td>-202</td>\n",
       "      <td>71</td>\n",
       "      <td>-244</td>\n",
       "      <td>40</td>\n",
       "      <td>56</td>\n",
       "      <td>47</td>\n",
       "      <td>...</td>\n",
       "      <td>-168</td>\n",
       "      <td>-41</td>\n",
       "      <td>-15</td>\n",
       "      <td>-129</td>\n",
       "      <td>-36</td>\n",
       "      <td>-231</td>\n",
       "      <td>-111</td>\n",
       "      <td>1</td>\n",
       "      <td>-129</td>\n",
       "      <td>-131</td>\n",
       "    </tr>\n",
       "    <tr>\n",
       "      <th>3</th>\n",
       "      <td>-125</td>\n",
       "      <td>-171</td>\n",
       "      <td>-65</td>\n",
       "      <td>-166</td>\n",
       "      <td>-200</td>\n",
       "      <td>62</td>\n",
       "      <td>-244</td>\n",
       "      <td>-50</td>\n",
       "      <td>59</td>\n",
       "      <td>82</td>\n",
       "      <td>...</td>\n",
       "      <td>-170</td>\n",
       "      <td>-32</td>\n",
       "      <td>32</td>\n",
       "      <td>-12</td>\n",
       "      <td>-78</td>\n",
       "      <td>-255</td>\n",
       "      <td>-111</td>\n",
       "      <td>1</td>\n",
       "      <td>-128</td>\n",
       "      <td>-133</td>\n",
       "    </tr>\n",
       "    <tr>\n",
       "      <th>4</th>\n",
       "      <td>-125</td>\n",
       "      <td>-171</td>\n",
       "      <td>-65</td>\n",
       "      <td>-166</td>\n",
       "      <td>-200</td>\n",
       "      <td>62</td>\n",
       "      <td>-244</td>\n",
       "      <td>-50</td>\n",
       "      <td>59</td>\n",
       "      <td>82</td>\n",
       "      <td>...</td>\n",
       "      <td>-170</td>\n",
       "      <td>-32</td>\n",
       "      <td>32</td>\n",
       "      <td>-12</td>\n",
       "      <td>-78</td>\n",
       "      <td>-255</td>\n",
       "      <td>-111</td>\n",
       "      <td>1</td>\n",
       "      <td>-128</td>\n",
       "      <td>-133</td>\n",
       "    </tr>\n",
       "  </tbody>\n",
       "</table>\n",
       "<p>5 rows × 38 columns</p>\n",
       "</div>"
      ],
      "text/plain": [
       "   f134  f37  f148  f67  f91  f36  f109  f96  f66  f92  ...   f8  f153  f131  \\\n",
       "0  -182 -165   -14 -166 -188   63  -205  -55   59  119  ... -161  -114    45   \n",
       "1  -124 -171   -66 -166 -200   61  -244  -52   59   82  ... -171   -32    32   \n",
       "2  -125 -175   -66 -166 -202   71  -244   40   56   47  ... -168   -41   -15   \n",
       "3  -125 -171   -65 -166 -200   62  -244  -50   59   82  ... -170   -32    32   \n",
       "4  -125 -171   -65 -166 -200   62  -244  -50   59   82  ... -170   -32    32   \n",
       "\n",
       "   f125  f124  f75  f12  class  f132  f54  \n",
       "0    80  -107  -97 -220      1  -118 -131  \n",
       "1   -10   -77 -255 -111      1  -128 -133  \n",
       "2  -129   -36 -231 -111      1  -129 -131  \n",
       "3   -12   -78 -255 -111      1  -128 -133  \n",
       "4   -12   -78 -255 -111      1  -128 -133  \n",
       "\n",
       "[5 rows x 38 columns]"
      ]
     },
     "execution_count": 26,
     "metadata": {},
     "output_type": "execute_result"
    }
   ],
   "source": [
    "data_new.head()"
   ]
  },
  {
   "cell_type": "markdown",
   "metadata": {},
   "source": [
    "## <font face='Lucida Grande'> Splitting the Data into 80:20 ratio "
   ]
  },
  {
   "cell_type": "code",
   "execution_count": 27,
   "metadata": {},
   "outputs": [
    {
     "name": "stdout",
     "output_type": "stream",
     "text": [
      "5278\n",
      "5278\n",
      "1320\n",
      "1320\n",
      "(6598, 38)\n"
     ]
    }
   ],
   "source": [
    "#Splitting the data\n",
    "feature_columns = data_new.columns.difference( ['class'] )\n",
    "train_X, test_X, train_y, test_y = train_test_split(data_new[feature_columns],\n",
    "                                                  data_new['class'],\n",
    "                                                  test_size=0.2,random_state=101)\n",
    "                                                  \n",
    "print (len( train_X ))\n",
    "print (len (train_y))\n",
    "print (len( test_X))\n",
    "print (len( test_y))\n",
    "print (data_new.shape)"
   ]
  },
  {
   "cell_type": "code",
   "execution_count": 28,
   "metadata": {},
   "outputs": [],
   "source": [
    "clf2= Sequential([\n",
    "  Dense(output_dim = 6, init = 'uniform', activation = 'relu', input_dim = 37),\n",
    "  Dense(output_dim = 6, init = 'uniform', activation = 'relu'),\n",
    "  Dense(output_dim = 1, init = 'uniform', activation = 'sigmoid')])\n",
    "\n",
    "clf2.compile(loss=keras.losses.binary_crossentropy,optimizer=keras.optimizers.Adadelta(),metrics=['accuracy'])\n"
   ]
  },
  {
   "cell_type": "code",
   "execution_count": 29,
   "metadata": {},
   "outputs": [
    {
     "name": "stdout",
     "output_type": "stream",
     "text": [
      "Train on 5278 samples, validate on 1320 samples\n",
      "Epoch 1/20\n",
      "5278/5278 [==============================] - 2s 401us/step - loss: 0.2999 - acc: 0.8668 - val_loss: 0.2605 - val_acc: 0.8985\n",
      "Epoch 2/20\n",
      "5278/5278 [==============================] - 1s 145us/step - loss: 0.2301 - acc: 0.9144 - val_loss: 0.2199 - val_acc: 0.9076\n",
      "Epoch 3/20\n",
      "5278/5278 [==============================] - 1s 135us/step - loss: 0.1912 - acc: 0.9269 - val_loss: 0.1983 - val_acc: 0.9220\n",
      "Epoch 4/20\n",
      "5278/5278 [==============================] - 1s 133us/step - loss: 0.1757 - acc: 0.9318 - val_loss: 0.1844 - val_acc: 0.9235\n",
      "Epoch 5/20\n",
      "5278/5278 [==============================] - 1s 135us/step - loss: 0.1651 - acc: 0.9379 - val_loss: 0.1757 - val_acc: 0.9303\n",
      "Epoch 6/20\n",
      "5278/5278 [==============================] - 1s 144us/step - loss: 0.1590 - acc: 0.9365 - val_loss: 0.1697 - val_acc: 0.9333\n",
      "Epoch 7/20\n",
      "5278/5278 [==============================] - 1s 153us/step - loss: 0.1530 - acc: 0.9382 - val_loss: 0.1631 - val_acc: 0.9356\n",
      "Epoch 8/20\n",
      "5278/5278 [==============================] - 1s 177us/step - loss: 0.1493 - acc: 0.9415 - val_loss: 0.1687 - val_acc: 0.9348\n",
      "Epoch 9/20\n",
      "5278/5278 [==============================] - 1s 163us/step - loss: 0.1464 - acc: 0.9422 - val_loss: 0.1700 - val_acc: 0.9394\n",
      "Epoch 10/20\n",
      "5278/5278 [==============================] - 1s 151us/step - loss: 0.1447 - acc: 0.9424 - val_loss: 0.1566 - val_acc: 0.9364\n",
      "Epoch 11/20\n",
      "5278/5278 [==============================] - 1s 144us/step - loss: 0.1419 - acc: 0.9439 - val_loss: 0.1696 - val_acc: 0.9356\n",
      "Epoch 12/20\n",
      "5278/5278 [==============================] - 1s 152us/step - loss: 0.1396 - acc: 0.9435 - val_loss: 0.1548 - val_acc: 0.9364\n",
      "Epoch 13/20\n",
      "5278/5278 [==============================] - 1s 154us/step - loss: 0.1381 - acc: 0.9445 - val_loss: 0.1692 - val_acc: 0.9379\n",
      "Epoch 14/20\n",
      "5278/5278 [==============================] - 1s 151us/step - loss: 0.1359 - acc: 0.9462 - val_loss: 0.1557 - val_acc: 0.9470\n",
      "Epoch 15/20\n",
      "5278/5278 [==============================] - 1s 144us/step - loss: 0.1318 - acc: 0.9477 - val_loss: 0.1519 - val_acc: 0.9447\n",
      "Epoch 16/20\n",
      "5278/5278 [==============================] - ETA: 0s - loss: 0.1315 - acc: 0.950 - 1s 161us/step - loss: 0.1303 - acc: 0.9507 - val_loss: 0.1681 - val_acc: 0.9333\n",
      "Epoch 17/20\n",
      "5278/5278 [==============================] - 1s 164us/step - loss: 0.1290 - acc: 0.9498 - val_loss: 0.1398 - val_acc: 0.9470\n",
      "Epoch 18/20\n",
      "5278/5278 [==============================] - 1s 173us/step - loss: 0.1277 - acc: 0.9505 - val_loss: 0.1506 - val_acc: 0.9447\n",
      "Epoch 19/20\n",
      "5278/5278 [==============================] - 1s 148us/step - loss: 0.1260 - acc: 0.9502 - val_loss: 0.1474 - val_acc: 0.9470\n",
      "Epoch 20/20\n",
      "5278/5278 [==============================] - 1s 141us/step - loss: 0.1251 - acc: 0.9505 - val_loss: 0.1423 - val_acc: 0.9485\n",
      "[0.1423390245347312, 0.9484848484848485]\n"
     ]
    }
   ],
   "source": [
    "history = clf2.fit(train_X,train_y,batch_size=20,epochs=20,validation_data=(test_X,test_y))\n",
    "score=clf2.evaluate(test_X,test_y,verbose=0)\n",
    "print(score)"
   ]
  },
  {
   "cell_type": "code",
   "execution_count": 30,
   "metadata": {},
   "outputs": [
    {
     "data": {
      "text/plain": [
       "<matplotlib.legend.Legend at 0x284ded89ac8>"
      ]
     },
     "execution_count": 30,
     "metadata": {},
     "output_type": "execute_result"
    },
    {
     "data": {
      "image/png": "[encoded data removed]",
      "text/plain": [
       "<Figure size 720x480 with 1 Axes>"
      ]
     },
     "metadata": {
      "needs_background": "light"
     },
     "output_type": "display_data"
    }
   ],
   "source": [
    "%matplotlib inline\n",
    "plt.figure(dpi=120)\n",
    "plt.plot(history.history['acc'])\n",
    "plt.plot(history.history['val_acc'])\n",
    "plt.title('Model Accuracy')\n",
    "plt.ylabel('accuracy')\n",
    "plt.xlabel('epoch')\n",
    "plt.legend(['train', 'test'], loc='lower right')"
   ]
  },
  {
   "cell_type": "code",
   "execution_count": 31,
   "metadata": {},
   "outputs": [
    {
     "data": {
      "image/png": "[encoded data removed]",
      "text/plain": [
       "<Figure size 720x480 with 1 Axes>"
      ]
     },
     "metadata": {
      "needs_background": "light"
     },
     "output_type": "display_data"
    }
   ],
   "source": [
    "plt.figure(dpi=120)\n",
    "plt.plot(history.history['loss'])\n",
    "plt.plot(history.history['val_loss'])\n",
    "plt.title('Model Loss')\n",
    "plt.ylabel('loss')\n",
    "plt.xlabel('epoch')\n",
    "plt.legend(['train', 'test'], loc='upper right')\n",
    "plt.show()"
   ]
  },
  {
   "cell_type": "markdown",
   "metadata": {},
   "source": [
    "# <font face='Lucida Grande'> Confusion Matrix and Classification report "
   ]
  },
  {
   "cell_type": "code",
   "execution_count": 46,
   "metadata": {},
   "outputs": [
    {
     "name": "stdout",
     "output_type": "stream",
     "text": [
      "[[4380   86]\n",
      " [ 152  660]]\n"
     ]
    }
   ],
   "source": [
    "cm_train = confusion_matrix(train_y, clf2.predict_classes(train_X))\n",
    "print(cm_train)"
   ]
  },
  {
   "cell_type": "code",
   "execution_count": 51,
   "metadata": {},
   "outputs": [
    {
     "data": {
      "image/png": "[encoded data removed]",
      "text/plain": [
       "<Figure size 400x200 with 2 Axes>"
      ]
     },
     "metadata": {},
     "output_type": "display_data"
    }
   ],
   "source": [
    "%matplotlib inline \n",
    "sns.set({'figure.figsize': (4,2)},font_scale=2)\n",
    "plt.figure(dpi=100)\n",
    "sns.heatmap(confusion_matrix(train_y, clf2.predict_classes(train_X)), cmap='Dark2_r', annot=True, fmt='.0f')\n",
    "plt.title(' Confusion Matrix of  Train Data')\n",
    "plt.show()"
   ]
  },
  {
   "cell_type": "code",
   "execution_count": 47,
   "metadata": {},
   "outputs": [
    {
     "name": "stdout",
     "output_type": "stream",
     "text": [
      "[[1093   22]\n",
      " [  46  159]]\n"
     ]
    }
   ],
   "source": [
    "cm_test = confusion_matrix(test_y, clf2.predict_classes(test_X))\n",
    "print(cm_test)"
   ]
  },
  {
   "cell_type": "code",
   "execution_count": 53,
   "metadata": {},
   "outputs": [
    {
     "data": {
      "image/png": "[encoded data removed]",
      "text/plain": [
       "<Figure size 400x200 with 2 Axes>"
      ]
     },
     "metadata": {},
     "output_type": "display_data"
    }
   ],
   "source": [
    "%matplotlib inline \n",
    "sns.set({'figure.figsize': (4,2)},font_scale=2)\n",
    "plt.figure(dpi=100)\n",
    "sns.heatmap(cm_test, cmap='Dark2_r', annot=True, fmt='.0f')\n",
    "plt.title(' Confusion Matrix of  Train Data')\n",
    "plt.show()"
   ]
  },
  {
   "cell_type": "code",
   "execution_count": 54,
   "metadata": {},
   "outputs": [
    {
     "data": {
      "text/html": [
       "<div>\n",
       "<style scoped>\n",
       "    .dataframe tbody tr th:only-of-type {\n",
       "        vertical-align: middle;\n",
       "    }\n",
       "\n",
       "    .dataframe tbody tr th {\n",
       "        vertical-align: top;\n",
       "    }\n",
       "\n",
       "    .dataframe thead th {\n",
       "        text-align: right;\n",
       "    }\n",
       "</style>\n",
       "<table border=\"1\" class=\"dataframe\">\n",
       "  <thead>\n",
       "    <tr style=\"text-align: right;\">\n",
       "      <th></th>\n",
       "      <th>f1-score</th>\n",
       "      <th>precision</th>\n",
       "      <th>recall</th>\n",
       "      <th>support</th>\n",
       "    </tr>\n",
       "  </thead>\n",
       "  <tbody>\n",
       "    <tr>\n",
       "      <th>0</th>\n",
       "      <td>0.973550</td>\n",
       "      <td>0.966461</td>\n",
       "      <td>0.980743</td>\n",
       "      <td>4466.0</td>\n",
       "    </tr>\n",
       "    <tr>\n",
       "      <th>1</th>\n",
       "      <td>0.847240</td>\n",
       "      <td>0.884718</td>\n",
       "      <td>0.812808</td>\n",
       "      <td>812.0</td>\n",
       "    </tr>\n",
       "    <tr>\n",
       "      <th>micro avg</th>\n",
       "      <td>0.954907</td>\n",
       "      <td>0.954907</td>\n",
       "      <td>0.954907</td>\n",
       "      <td>5278.0</td>\n",
       "    </tr>\n",
       "    <tr>\n",
       "      <th>macro avg</th>\n",
       "      <td>0.910395</td>\n",
       "      <td>0.925590</td>\n",
       "      <td>0.896776</td>\n",
       "      <td>5278.0</td>\n",
       "    </tr>\n",
       "    <tr>\n",
       "      <th>weighted avg</th>\n",
       "      <td>0.954117</td>\n",
       "      <td>0.953885</td>\n",
       "      <td>0.954907</td>\n",
       "      <td>5278.0</td>\n",
       "    </tr>\n",
       "  </tbody>\n",
       "</table>\n",
       "</div>"
      ],
      "text/plain": [
       "              f1-score  precision    recall  support\n",
       "0             0.973550   0.966461  0.980743   4466.0\n",
       "1             0.847240   0.884718  0.812808    812.0\n",
       "micro avg     0.954907   0.954907  0.954907   5278.0\n",
       "macro avg     0.910395   0.925590  0.896776   5278.0\n",
       "weighted avg  0.954117   0.953885  0.954907   5278.0"
      ]
     },
     "execution_count": 54,
     "metadata": {},
     "output_type": "execute_result"
    }
   ],
   "source": [
    "class_report_train=pd.DataFrame(classification_report(train_y, clf2.predict_classes(train_X), output_dict=True)).T\n",
    "\n",
    "class_report_train"
   ]
  },
  {
   "cell_type": "code",
   "execution_count": 55,
   "metadata": {},
   "outputs": [
    {
     "data": {
      "text/html": [
       "<div>\n",
       "<style scoped>\n",
       "    .dataframe tbody tr th:only-of-type {\n",
       "        vertical-align: middle;\n",
       "    }\n",
       "\n",
       "    .dataframe tbody tr th {\n",
       "        vertical-align: top;\n",
       "    }\n",
       "\n",
       "    .dataframe thead th {\n",
       "        text-align: right;\n",
       "    }\n",
       "</style>\n",
       "<table border=\"1\" class=\"dataframe\">\n",
       "  <thead>\n",
       "    <tr style=\"text-align: right;\">\n",
       "      <th></th>\n",
       "      <th>f1-score</th>\n",
       "      <th>precision</th>\n",
       "      <th>recall</th>\n",
       "      <th>support</th>\n",
       "    </tr>\n",
       "  </thead>\n",
       "  <tbody>\n",
       "    <tr>\n",
       "      <th>0</th>\n",
       "      <td>0.969831</td>\n",
       "      <td>0.959614</td>\n",
       "      <td>0.980269</td>\n",
       "      <td>1115.0</td>\n",
       "    </tr>\n",
       "    <tr>\n",
       "      <th>1</th>\n",
       "      <td>0.823834</td>\n",
       "      <td>0.878453</td>\n",
       "      <td>0.775610</td>\n",
       "      <td>205.0</td>\n",
       "    </tr>\n",
       "    <tr>\n",
       "      <th>micro avg</th>\n",
       "      <td>0.948485</td>\n",
       "      <td>0.948485</td>\n",
       "      <td>0.948485</td>\n",
       "      <td>1320.0</td>\n",
       "    </tr>\n",
       "    <tr>\n",
       "      <th>macro avg</th>\n",
       "      <td>0.896833</td>\n",
       "      <td>0.919033</td>\n",
       "      <td>0.877939</td>\n",
       "      <td>1320.0</td>\n",
       "    </tr>\n",
       "    <tr>\n",
       "      <th>weighted avg</th>\n",
       "      <td>0.947158</td>\n",
       "      <td>0.947009</td>\n",
       "      <td>0.948485</td>\n",
       "      <td>1320.0</td>\n",
       "    </tr>\n",
       "  </tbody>\n",
       "</table>\n",
       "</div>"
      ],
      "text/plain": [
       "              f1-score  precision    recall  support\n",
       "0             0.969831   0.959614  0.980269   1115.0\n",
       "1             0.823834   0.878453  0.775610    205.0\n",
       "micro avg     0.948485   0.948485  0.948485   1320.0\n",
       "macro avg     0.896833   0.919033  0.877939   1320.0\n",
       "weighted avg  0.947158   0.947009  0.948485   1320.0"
      ]
     },
     "execution_count": 55,
     "metadata": {},
     "output_type": "execute_result"
    }
   ],
   "source": [
    "class_report_test=pd.DataFrame(classification_report(test_y, clf2.predict_classes(test_X), output_dict=True)).T\n",
    "\n",
    "class_report_test"
   ]
  },
  {
   "cell_type": "code",
   "execution_count": 56,
   "metadata": {},
   "outputs": [],
   "source": [
    "clf2.save('clf2.h5')"
   ]
  },
  {
   "cell_type": "code",
   "execution_count": null,
   "metadata": {},
   "outputs": [],
   "source": []
  }
 ],
 "metadata": {
  "kernelspec": {
   "display_name": "Python 3",
   "language": "python",
   "name": "python3"
  },
  "language_info": {
   "codemirror_mode": {
    "name": "ipython",
    "version": 3
   },
   "file_extension": ".py",
   "mimetype": "text/x-python",
   "name": "python",
   "nbconvert_exporter": "python",
   "pygments_lexer": "ipython3",
   "version": "3.7.3"
  }
 },
 "nbformat": 4,
 "nbformat_minor": 2
}
